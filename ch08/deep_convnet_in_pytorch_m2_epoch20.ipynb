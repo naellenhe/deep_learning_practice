{
 "cells": [
  {
   "cell_type": "markdown",
   "metadata": {},
   "source": [
    "### Deep Learning Ch08 \n",
    "`deep_convnet.py` model"
   ]
  },
  {
   "cell_type": "code",
   "execution_count": 1,
   "metadata": {},
   "outputs": [],
   "source": [
    "# coding: utf-8\n",
    "import sys, os\n",
    "sys.path.append(os.pardir)  # 親ディレクトリのファイルをインポートするための設定\n",
    "import numpy as np\n",
    "import matplotlib.pyplot as plt\n",
    "from dataset.mnist import load_mnist\n",
    "\n",
    "# データの読み込み\n",
    "(x_train, t_train), (x_test, t_test) = load_mnist(flatten=False)\n",
    "\n",
    "# # 処理に時間のかかる場合はデータを削減 \n",
    "# x_train, t_train = x_train[:5000], t_train[:5000]\n",
    "# x_test, t_test = x_test[:1000], t_test[:1000]"
   ]
  },
  {
   "cell_type": "code",
   "execution_count": 2,
   "metadata": {},
   "outputs": [
    {
     "name": "stdout",
     "output_type": "stream",
     "text": [
      "(60000, 1, 28, 28)\n",
      "(60000,)\n"
     ]
    }
   ],
   "source": [
    "print(x_train.shape)\n",
    "print(t_train.shape)"
   ]
  },
  {
   "cell_type": "code",
   "execution_count": 3,
   "metadata": {},
   "outputs": [
    {
     "name": "stdout",
     "output_type": "stream",
     "text": [
      "(10000, 1, 28, 28)\n",
      "(10000,)\n"
     ]
    }
   ],
   "source": [
    "print(x_test.shape) \n",
    "print(t_test.shape)"
   ]
  },
  {
   "cell_type": "code",
   "execution_count": 4,
   "metadata": {},
   "outputs": [
    {
     "data": {
      "text/plain": [
       "<matplotlib.image.AxesImage at 0x10cecf208>"
      ]
     },
     "execution_count": 4,
     "metadata": {},
     "output_type": "execute_result"
    },
    {
     "data": {
      "image/png": "[encoded data removed]",
      "text/plain": [
       "<Figure size 432x288 with 1 Axes>"
      ]
     },
     "metadata": {},
     "output_type": "display_data"
    }
   ],
   "source": [
    "plt.imshow(x_train[0].reshape(28,28))"
   ]
  },
  {
   "cell_type": "code",
   "execution_count": 5,
   "metadata": {},
   "outputs": [],
   "source": [
    "from deep_convnet import DeepConvNet"
   ]
  },
  {
   "cell_type": "code",
   "execution_count": 6,
   "metadata": {},
   "outputs": [],
   "source": [
    "deepconv = DeepConvNet()"
   ]
  },
  {
   "cell_type": "code",
   "execution_count": 7,
   "metadata": {},
   "outputs": [],
   "source": [
    "# Load pre-trained parameters to the model\n",
    "deepconv.load_params('deep_convnet_params.pkl')"
   ]
  },
  {
   "cell_type": "code",
   "execution_count": 8,
   "metadata": {},
   "outputs": [],
   "source": [
    "import torch\n",
    "# See first 100 data outputs\n",
    "predicts = torch.Tensor(deepconv.predict(x_test[:100]))"
   ]
  },
  {
   "cell_type": "code",
   "execution_count": 9,
   "metadata": {},
   "outputs": [],
   "source": [
    "# predict outputs\n",
    "outputs = torch.argmax(predicts, 1)"
   ]
  },
  {
   "cell_type": "code",
   "execution_count": 10,
   "metadata": {},
   "outputs": [
    {
     "data": {
      "text/plain": [
       "tensor([ 7,  2,  1,  0,  4,  1,  4,  9,  5,  9,  0,  6,  9,  0,\n",
       "         1,  5,  9,  7,  3,  4,  9,  6,  6,  5,  4,  0,  7,  4,\n",
       "         0,  1,  3,  1,  3,  4,  7,  2,  7,  1,  2,  1,  1,  7,\n",
       "         4,  2,  3,  5,  1,  2,  4,  4,  6,  3,  5,  5,  6,  0,\n",
       "         4,  1,  9,  5,  7,  8,  9,  3,  7,  4,  6,  4,  3,  0,\n",
       "         7,  0,  2,  9,  1,  7,  3,  2,  9,  7,  7,  6,  2,  7,\n",
       "         8,  4,  7,  3,  6,  1,  3,  6,  9,  3,  1,  4,  1,  7,\n",
       "         6,  9])"
      ]
     },
     "execution_count": 10,
     "metadata": {},
     "output_type": "execute_result"
    }
   ],
   "source": [
    "outputs"
   ]
  },
  {
   "cell_type": "code",
   "execution_count": 11,
   "metadata": {},
   "outputs": [
    {
     "data": {
      "text/plain": [
       "tensor([ 7,  2,  1,  0,  4,  1,  4,  9,  5,  9,  0,  6,  9,  0,\n",
       "         1,  5,  9,  7,  3,  4,  9,  6,  6,  5,  4,  0,  7,  4,\n",
       "         0,  1,  3,  1,  3,  4,  7,  2,  7,  1,  2,  1,  1,  7,\n",
       "         4,  2,  3,  5,  1,  2,  4,  4,  6,  3,  5,  5,  6,  0,\n",
       "         4,  1,  9,  5,  7,  8,  9,  3,  7,  4,  6,  4,  3,  0,\n",
       "         7,  0,  2,  9,  1,  7,  3,  2,  9,  7,  7,  6,  2,  7,\n",
       "         8,  4,  7,  3,  6,  1,  3,  6,  9,  3,  1,  4,  1,  7,\n",
       "         6,  9])"
      ]
     },
     "execution_count": 11,
     "metadata": {},
     "output_type": "execute_result"
    }
   ],
   "source": [
    "# labels\n",
    "torch.LongTensor(t_test[:100])"
   ]
  },
  {
   "cell_type": "code",
   "execution_count": 12,
   "metadata": {},
   "outputs": [
    {
     "name": "stdout",
     "output_type": "stream",
     "text": [
      "accuracy: 100 %\n"
     ]
    }
   ],
   "source": [
    "# First 100 data\n",
    "accuracy = 100 * ((outputs == torch.LongTensor(t_test[:100])).sum() / len(outputs))\n",
    "print('accuracy:', int(accuracy), \"%\")"
   ]
  },
  {
   "cell_type": "code",
   "execution_count": 15,
   "metadata": {},
   "outputs": [
    {
     "data": {
      "text/plain": [
       "0.99350000000000005"
      ]
     },
     "execution_count": 15,
     "metadata": {},
     "output_type": "execute_result"
    }
   ],
   "source": [
    "# DeepConvNetのメソッドのaccuracyを使って、正解率を求める\n",
    "\n",
    "# test dataset\n",
    "deepconv.accuracy(x = x_test, t = t_test)"
   ]
  },
  {
   "cell_type": "markdown",
   "metadata": {},
   "source": [
    "Accuracy 99.35%"
   ]
  },
  {
   "cell_type": "code",
   "execution_count": 16,
   "metadata": {},
   "outputs": [
    {
     "data": {
      "text/plain": [
       "0.99833333333333329"
      ]
     },
     "execution_count": 16,
     "metadata": {},
     "output_type": "execute_result"
    }
   ],
   "source": [
    "# train dataset\n",
    "deepconv.accuracy(x = x_train, t = t_train)"
   ]
  },
  {
   "cell_type": "code",
   "execution_count": 13,
   "metadata": {},
   "outputs": [
    {
     "name": "stdout",
     "output_type": "stream",
     "text": [
      "Parameter dimesions:\n",
      "W1 (16, 1, 3, 3)\n",
      "b1 (16,)\n",
      "W2 (16, 16, 3, 3)\n",
      "b2 (16,)\n",
      "W3 (32, 16, 3, 3)\n",
      "b3 (32,)\n",
      "W4 (32, 32, 3, 3)\n",
      "b4 (32,)\n",
      "W5 (64, 32, 3, 3)\n",
      "b5 (64,)\n",
      "W6 (64, 64, 3, 3)\n",
      "b6 (64,)\n",
      "W7 (1024, 50)\n",
      "b7 (50,)\n",
      "W8 (50, 10)\n",
      "b8 (10,)\n"
     ]
    }
   ],
   "source": [
    "print('Parameter dimesions:')\n",
    "for i in range(1,9):\n",
    "    print('W' + str(i), deepconv.params['W' + str(i)].shape)\n",
    "    print('b' + str(i), deepconv.params['b' + str(i)].shape)"
   ]
  },
  {
   "cell_type": "markdown",
   "metadata": {},
   "source": [
    "### PyTorch"
   ]
  },
  {
   "cell_type": "code",
   "execution_count": 14,
   "metadata": {},
   "outputs": [],
   "source": [
    "import torch \n",
    "import torch.nn as nn\n",
    "import torchvision\n",
    "import torchvision.transforms as transforms\n",
    "from torch.autograd import Variable"
   ]
  },
  {
   "cell_type": "code",
   "execution_count": 15,
   "metadata": {},
   "outputs": [],
   "source": [
    "# Hyper parameters\n",
    "num_epochs = 20\n",
    "hidden_size = 50\n",
    "num_classes = 10\n",
    "batch_size = 100\n",
    "learning_rate = 0.001"
   ]
  },
  {
   "cell_type": "code",
   "execution_count": 16,
   "metadata": {},
   "outputs": [],
   "source": [
    "# MNIST dataset\n",
    "train_dataset = torchvision.datasets.MNIST(root='../dataset/',\n",
    "                                           train=True, \n",
    "                                           transform=transforms.ToTensor(),\n",
    "                                           download=True)\n",
    "\n",
    "test_dataset = torchvision.datasets.MNIST(root='../dataset/',\n",
    "                                          train=False, \n",
    "                                          transform=transforms.ToTensor())"
   ]
  },
  {
   "cell_type": "code",
   "execution_count": 17,
   "metadata": {},
   "outputs": [],
   "source": [
    "#plt.imshow(train_dataset.train_data[0].reshape(28,28))"
   ]
  },
  {
   "cell_type": "code",
   "execution_count": 18,
   "metadata": {},
   "outputs": [
    {
     "name": "stdout",
     "output_type": "stream",
     "text": [
      "torch.Size([60000, 28, 28])\n",
      "torch.Size([10000, 28, 28])\n"
     ]
    }
   ],
   "source": [
    "print(train_dataset.train_data.size())\n",
    "print(test_dataset.test_data.size())"
   ]
  },
  {
   "cell_type": "code",
   "execution_count": 19,
   "metadata": {},
   "outputs": [],
   "source": [
    "# # # 処理に時間のかかる場合はデータを削減\n",
    "# small_num_train_dataset = 10000\n",
    "# small_num_test_dataset = 5000\n",
    "\n",
    "# train_dataset = [train_dataset[i] for i in range(small_num_train_dataset)]\n",
    "# test_dataset = [test_dataset[i] for i in range(small_num_test_dataset)]"
   ]
  },
  {
   "cell_type": "code",
   "execution_count": 20,
   "metadata": {},
   "outputs": [],
   "source": [
    "# Data loader\n",
    "train_loader = torch.utils.data.DataLoader(dataset=train_dataset,\n",
    "                                           batch_size=batch_size, \n",
    "                                           shuffle=True)\n",
    "\n",
    "test_loader = torch.utils.data.DataLoader(dataset=test_dataset,\n",
    "                                          batch_size=batch_size, \n",
    "                                          shuffle=False)"
   ]
  },
  {
   "cell_type": "code",
   "execution_count": 21,
   "metadata": {},
   "outputs": [
    {
     "name": "stdout",
     "output_type": "stream",
     "text": [
      "images: torch.Size([100, 1, 28, 28]) \n",
      "labels: torch.Size([100])\n",
      "tensor([ 0.0000,  0.0000,  0.0000,  0.0000,  0.0000,  0.0000,  0.0000,\n",
      "         0.0000,  0.0000,  0.0000,  0.1059,  0.8667,  0.9922,  0.9451,\n",
      "         0.8667,  0.9882,  0.9922,  0.9059,  0.6275,  0.0627,  0.0000,\n",
      "         0.0000,  0.0000,  0.0000,  0.0000,  0.0000,  0.0000,  0.0000])\n"
     ]
    }
   ],
   "source": [
    "# after Dataloader (normalized 0-255=>0-1)\n",
    "for images, labels in train_loader:\n",
    "    print('images:', images.shape, '\\nlabels:', labels.shape)\n",
    "    print(images[0][0][6])\n",
    "    break"
   ]
  },
  {
   "cell_type": "markdown",
   "metadata": {},
   "source": [
    "### Padding & Stride\n",
    "\n",
    "- Valid padding (zero padding)\n",
    "    - input size (4x4) > output size (2x2) (stride=1, kernel=3x3)\n",
    "\n",
    "- Same padding (non-zero padding)\n",
    "    - input size (5x5) = output size (5x5) (stride=1, kernel=3x3)\n",
    "\n",
    "- Output size\n",
    "\n",
    "    $ O = \\frac {W-K+2P}{S} + 1 $\n",
    "    - O: output h/w\n",
    "    - W: input h/w\n",
    "    - K: filter size(kernel size)\n",
    "    - P: padding\n",
    "        - $  P = \\frac {K-1}{2} $\n",
    "    - S: stride"
   ]
  },
  {
   "cell_type": "markdown",
   "metadata": {},
   "source": [
    "### Todo list:\n",
    "- deeper nn:\n",
    "    ```\n",
    "        conv - relu - conv- relu - pool -\n",
    "        conv - relu - conv- relu - pool -\n",
    "        conv - relu - conv- relu - pool -\n",
    "        affine - relu - dropout - affine - dropout - softmax\n",
    "    ```\n",
    "- try `kaiming_normal` parameters\n",
    "- try `dropout` after fully-connected layers\n"
   ]
  },
  {
   "cell_type": "code",
   "execution_count": null,
   "metadata": {},
   "outputs": [],
   "source": []
  },
  {
   "cell_type": "markdown",
   "metadata": {},
   "source": [
    "### Model 2:\n",
    "\n",
    "\n",
    "```\n",
    "Network\n",
    "Input ->\n",
    "Conv -> ReLU -> Conv -> ReLU ->MaxPool -> \n",
    "Conv -> ReLU -> Conv -> ReLU ->MaxPool -> \n",
    "Conv -> ReLU -> Conv -> ReLU ->MaxPool -> \n",
    "Affine - ReLU - Dropout - Affine - Dropout - Softmax -> Labels\n",
    "```\n",
    "\n",
    "```\n",
    "Convolutional layer formula:\n",
    "- Filter(Kernel) size K = 3 => (3 x 3)\n",
    "- P(same padding) P = (3-1)/2=1\n",
    "- S(stride) S = 1\n",
    "- in_channels = 1 (gray image)\n",
    "- out_channels (int) – Number of channels produced by the convolution = 16\n",
    "Pooling layer formula:\n",
    "- K = 2 => (2 x 2)\n",
    "```\n",
    "\n",
    "```\n",
    "Dimensions:\n",
    "-> Input(28, 28) \n",
    "-> Conv (16, 28, 28) \n",
    "-> Conv (16, 28, 28) \n",
    "-> MaxPool (16, 14, 14)\n",
    "-> Conv (32, 14, 14)\n",
    "-> Conv (32, 16, 16) \n",
    "-> MaxPool (32, 8, 8)\n",
    "-> Conv (32, 8, 8)\n",
    "-> Conv (32, 8, 8) \n",
    "-> MaxPool (32, 4, 4)\n",
    "-> Fully Connected Layer(Logits (10, 1) -> Softmax) -> Labels\n",
    "```"
   ]
  },
  {
   "cell_type": "code",
   "execution_count": 22,
   "metadata": {},
   "outputs": [],
   "source": [
    "class PytorchDeepConvNet2(nn.Module):\n",
    "    def __init__(self, num_classes=10):\n",
    "        super(PytorchDeepConvNet2, self).__init__()\n",
    "\n",
    "        # Layer 1: conv - relu - conv- relu - pool\n",
    "        self.layer1 = nn.Sequential(\n",
    "            nn.Conv2d(in_channels=1, out_channels=16, kernel_size=3, stride=1, padding=1),\n",
    "            # Add BatchNorm2d() layer\n",
    "#             nn.BatchNorm2d(16),\n",
    "            nn.ReLU(),\n",
    "            nn.Conv2d(in_channels=16, out_channels=16, kernel_size=3, stride=1, padding=1),\n",
    "            nn.ReLU(),\n",
    "            nn.MaxPool2d(kernel_size=2, stride=2))        \n",
    "        \n",
    "        # Layer 2: conv - relu - conv- relu - pool\n",
    "        self.layer2 = nn.Sequential(\n",
    "            nn.Conv2d(in_channels=16, out_channels=32, kernel_size=3, stride=1, padding=1),\n",
    "            # Add BatchNorm2d() layer\n",
    "#             nn.BatchNorm2d(32),\n",
    "            nn.ReLU(),\n",
    "            nn.Conv2d(in_channels=32, out_channels=32, kernel_size=3, stride=1, padding=2),\n",
    "            nn.ReLU(),\n",
    "            nn.MaxPool2d(kernel_size=2, stride=2))\n",
    "\n",
    "        # Layer 3: conv - relu - conv- relu - pool\n",
    "        self.layer3 = nn.Sequential(\n",
    "            nn.Conv2d(in_channels=32, out_channels=64, kernel_size=3, stride=1, padding=1),\n",
    "            # Add BatchNorm2d() layer\n",
    "#             nn.BatchNorm2d(64),\n",
    "            nn.ReLU(),\n",
    "            nn.Conv2d(in_channels=64, out_channels=64, kernel_size=3, stride=1, padding=1),\n",
    "            nn.ReLU(),\n",
    "            nn.MaxPool2d(kernel_size=2, stride=2))\n",
    "\n",
    "        # Fully Connected 1 (readout)\n",
    "        # Affine - ReLU - Dropout - Affine - Dropout - Softmax\n",
    "        self.layer4 = nn.Sequential(\n",
    "            nn.Linear(64 * 4 * 4, hidden_size),\n",
    "            nn.ReLU(),\n",
    "            nn.Dropout(0.5),\n",
    "            nn.Linear(hidden_size, num_classes),\n",
    "            nn.Dropout(0.5))\n",
    "\n",
    "        # Initialize all parameters using kaiming normalization\n",
    "        self.init_weights_kaiming()\n",
    "    \n",
    "    def init_weights_kaiming(self):\n",
    "        #Use kaiming normalization to initialize the parameters\n",
    "        for layer in [self.layer1, self.layer2, self.layer3, self.layer4]:\n",
    "            for m in layer:\n",
    "                if type(m) == nn.Conv2d or type(m) == nn.Linear:\n",
    "                    m.weight = nn.init.kaiming_normal_(m.weight)\n",
    "\n",
    "    def forward(self, x):\n",
    "\n",
    "        out = self.layer1(x)\n",
    "        out = self.layer2(out)\n",
    "        out = self.layer3(out)\n",
    "        \n",
    "        out = out.view(out.size(0), -1)\n",
    "    \n",
    "        # Linear function (readout)\n",
    "        out = self.layer4(out)\n",
    "        \n",
    "        return out\n",
    "    \n",
    "#     def predict(self, x):\n",
    "\n",
    "#         out = self.layer1(x)\n",
    "#         out = self.layer2(out)\n",
    "#         out = self.layer3(out)\n",
    "        \n",
    "#         out = out.view(out.size(0), -1)\n",
    "    \n",
    "#         # For prediction, do not use dropout layer\n",
    "#         for m in self.layer4:\n",
    "#             if type(m) != nn.Dropout:\n",
    "#                 out = m(out)\n",
    "#         return out        \n"
   ]
  },
  {
   "cell_type": "code",
   "execution_count": 23,
   "metadata": {},
   "outputs": [
    {
     "name": "stdout",
     "output_type": "stream",
     "text": [
      "PytorchDeepConvNet2(\n",
      "  (layer1): Sequential(\n",
      "    (0): Conv2d(1, 16, kernel_size=(3, 3), stride=(1, 1), padding=(1, 1))\n",
      "    (1): ReLU()\n",
      "    (2): Conv2d(16, 16, kernel_size=(3, 3), stride=(1, 1), padding=(1, 1))\n",
      "    (3): ReLU()\n",
      "    (4): MaxPool2d(kernel_size=2, stride=2, padding=0, dilation=1, ceil_mode=False)\n",
      "  )\n",
      "  (layer2): Sequential(\n",
      "    (0): Conv2d(16, 32, kernel_size=(3, 3), stride=(1, 1), padding=(1, 1))\n",
      "    (1): ReLU()\n",
      "    (2): Conv2d(32, 32, kernel_size=(3, 3), stride=(1, 1), padding=(2, 2))\n",
      "    (3): ReLU()\n",
      "    (4): MaxPool2d(kernel_size=2, stride=2, padding=0, dilation=1, ceil_mode=False)\n",
      "  )\n",
      "  (layer3): Sequential(\n",
      "    (0): Conv2d(32, 64, kernel_size=(3, 3), stride=(1, 1), padding=(1, 1))\n",
      "    (1): ReLU()\n",
      "    (2): Conv2d(64, 64, kernel_size=(3, 3), stride=(1, 1), padding=(1, 1))\n",
      "    (3): ReLU()\n",
      "    (4): MaxPool2d(kernel_size=2, stride=2, padding=0, dilation=1, ceil_mode=False)\n",
      "  )\n",
      "  (layer4): Sequential(\n",
      "    (0): Linear(in_features=1024, out_features=50, bias=True)\n",
      "    (1): ReLU()\n",
      "    (2): Dropout(p=0.5)\n",
      "    (3): Linear(in_features=50, out_features=10, bias=True)\n",
      "    (4): Dropout(p=0.5)\n",
      "  )\n",
      ")\n"
     ]
    }
   ],
   "source": [
    "model = PytorchDeepConvNet2(num_classes)\n",
    "print(model)\n",
    "criterion = nn.CrossEntropyLoss()\n",
    "# Use Adam as the optimizer\n",
    "optimizer = torch.optim.Adam(model.parameters(), lr=learning_rate)"
   ]
  },
  {
   "cell_type": "code",
   "execution_count": null,
   "metadata": {},
   "outputs": [
    {
     "name": "stdout",
     "output_type": "stream",
     "text": [
      "Iteration: 500. Loss: 1.2536752223968506.\n",
      "Iteration: 1000. Loss: 1.0378079414367676.\n",
      "Iteration: 1500. Loss: 1.001308560371399.\n",
      "Iteration: 2000. Loss: 0.9463627338409424.\n",
      "Iteration: 2500. Loss: 0.9311299324035645.\n",
      "Iteration: 3000. Loss: 0.9065763354301453.\n",
      "Iteration: 3500. Loss: 0.7186115384101868.\n",
      "Iteration: 4000. Loss: 0.744046688079834.\n",
      "Iteration: 4500. Loss: 0.8450638055801392.\n",
      "Iteration: 5000. Loss: 0.9300395250320435.\n",
      "Iteration: 5500. Loss: 0.7464480400085449.\n",
      "Iteration: 6000. Loss: 1.0350948572158813.\n",
      "Iteration: 6500. Loss: 0.9463658332824707.\n",
      "Iteration: 7000. Loss: 0.848503589630127.\n",
      "Iteration: 7500. Loss: 0.9512791633605957.\n",
      "Iteration: 8000. Loss: 0.9735271334648132.\n",
      "Iteration: 8500. Loss: 0.8381157517433167.\n",
      "Iteration: 9000. Loss: 0.8571024537086487.\n",
      "Iteration: 9500. Loss: 0.8564756512641907.\n",
      "Iteration: 10000. Loss: 0.8399238586425781.\n"
     ]
    }
   ],
   "source": [
    "iter = 0\n",
    "# accuracies = []\n",
    "for epoch in range(num_epochs):\n",
    "    for i, (images, labels) in enumerate(train_loader):\n",
    "        # Load images as Variable\n",
    "        images = Variable(images) # Now we dont need to resize like images.view(xx)\n",
    "        labels = Variable(labels)\n",
    "        \n",
    "        # Clear gradients w.r.t parameters\n",
    "        optimizer.zero_grad()\n",
    "        \n",
    "        # Forward pass to get output/logits\n",
    "        outputs = model(images)\n",
    "        \n",
    "        # Calculate Loss: Softmax --> cross entropy loss\n",
    "        loss = criterion(outputs, labels)\n",
    "        \n",
    "        # Getting gradients w.r.t paramters\n",
    "        loss.backward()\n",
    "        \n",
    "        # Updating parameters\n",
    "        optimizer.step()\n",
    "        \n",
    "        iter += 1\n",
    "        \n",
    "        if iter % 500 == 0:\n",
    "\n",
    "            \n",
    "            # Print Loss\n",
    "            print('Iteration: {}. Loss: {}.'.format(iter, loss.item()))"
   ]
  },
  {
   "cell_type": "code",
   "execution_count": 27,
   "metadata": {},
   "outputs": [
    {
     "name": "stdout",
     "output_type": "stream",
     "text": [
      "Test Accuracy of the model on the 10000 test images: 99.17 %\n"
     ]
    }
   ],
   "source": [
    "wrong_predictions = []\n",
    "\n",
    "model.eval()\n",
    "with torch.no_grad():\n",
    "    correct = 0\n",
    "    total = 0\n",
    "    for images, labels in test_loader:\n",
    "        images = Variable(images)\n",
    "        labels = Variable(labels)\n",
    "        outputs = model(images)\n",
    "        _, predicted = torch.max(outputs.data, 1)\n",
    "        total += labels.size(0)\n",
    "        correct += (predicted == labels).sum().item()\n",
    "        \n",
    "        # See which are error predictions\n",
    "        fail = (predicted == labels)\n",
    "        err_imgs = images[fail == 0]\n",
    "        err_labels = labels[fail == 0]\n",
    "        err_outputs = predicted[fail == 0]\n",
    "        for img, lbl, out in zip(err_imgs, err_labels, err_outputs):\n",
    "            wrong_predictions.append((img, lbl, out))\n",
    "     \n",
    "    print('Test Accuracy of the model on the 10000 test images: {} %'.format(100 * correct / total))\n"
   ]
  },
  {
   "cell_type": "code",
   "execution_count": 28,
   "metadata": {},
   "outputs": [
    {
     "data": {
      "image/png": "[encoded data removed]",
      "text/plain": [
       "<Figure size 1080x1800 with 30 Axes>"
      ]
     },
     "metadata": {},
     "output_type": "display_data"
    }
   ],
   "source": [
    "# Show wrong predictions\n",
    "plt.figure(figsize=(15,25))\n",
    "columns = 5\n",
    "for i, err in enumerate(wrong_predictions[:30]):\n",
    "    plt.subplot(len(wrong_predictions[:30]) / columns + 1, columns, i + 1)\n",
    "    img, lbl, out = err\n",
    "    plt.imshow(img.reshape(28,28))\n",
    "    plt.text(2,-2,'True:'+str(lbl.item()), bbox=dict(facecolor='green', alpha=0.5))\n",
    "    plt.text(17,-2,'Predict:'+str(out.item()), bbox=dict(facecolor='red', alpha=0.5))"
   ]
  },
  {
   "cell_type": "markdown",
   "metadata": {},
   "source": [
    "### Test memo:\n",
    "\n",
    "#### Model 1\n",
    "|dataset size(train/test)|#epoch|      model  |  optimizer | parameters |lr| accuracy  |\n",
    "|-----------------------|-------|--------------|------------|------------|--|------------|\n",
    "|60000/10000|5|(conv - relu - conv- relu - pool)x2, linearx1 |torch.optim.SGD|-|0.01| 97.03%|\n",
    "|60000/10000|5|(conv - relu - conv- relu - pool)x2, linearx1 |torch.optim.Adam|-|0.01| 97.69%|\n",
    "|60000/10000|5|(conv - relu - conv- relu - pool)x2, linearx1 |torch.optim.Adam|Kaiming He|0.01| 98.48%|\n",
    "|60000/10000|5|(conv - relu - conv- relu - pool)x2, linearx1 |torch.optim.Adam|Kaiming He|0.001| 99.11%|\n",
    "\n",
    "#### Model 2\n",
    "|dataset size(train/test)|#epoch|      model  |  optimizer | parameters |lr| accuracy  |\n",
    "|-----------------------|-------|--------------|------------|------------|--|------------|\n",
    "|60000/10000|5|(conv - relu - conv- relu - pool)x3, linear-relu-dropout-linear-dropout |torch.optim.Adam|Kaiming He|0.01| 96.83%|\n",
    "|60000/10000|10|(conv - relu - conv- relu - pool)x3, linear-relu-dropout-linear-dropout |torch.optim.Adam|Kaiming He|0.001| 99.15%|\n",
    "|60000/10000|20|(conv - relu - conv- relu - pool)x3, linear-relu-dropout-linear-dropout |torch.optim.Adam|Kaiming He|0.001| 99.17%|"
   ]
  },
  {
   "cell_type": "code",
   "execution_count": null,
   "metadata": {},
   "outputs": [],
   "source": []
  },
  {
   "cell_type": "code",
   "execution_count": 36,
   "metadata": {},
   "outputs": [],
   "source": [
    "# Save the model checkpoint\n",
    "torch.save(model.state_dict(), 'model.ckpt')"
   ]
  },
  {
   "cell_type": "code",
   "execution_count": 24,
   "metadata": {},
   "outputs": [],
   "source": [
    "# Load pretrained model\n",
    "model.load_state_dict(torch.load('model.ckpt'))"
   ]
  }
 ],
 "metadata": {
  "kernelspec": {
   "display_name": "Python 3",
   "language": "python",
   "name": "python3"
  },
  "language_info": {
   "codemirror_mode": {
    "name": "ipython",
    "version": 3
   },
   "file_extension": ".py",
   "mimetype": "text/x-python",
   "name": "python",
   "nbconvert_exporter": "python",
   "pygments_lexer": "ipython3",
   "version": "3.6.5"
  }
 },
 "nbformat": 4,
 "nbformat_minor": 2
}
